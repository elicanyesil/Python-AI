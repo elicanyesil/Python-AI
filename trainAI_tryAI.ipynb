{
 "cells": [
  {
   "cell_type": "markdown",
   "metadata": {},
   "source": [
    "# Labaled Train Data"
   ]
  },
  {
   "cell_type": "code",
   "execution_count": 1,
   "metadata": {},
   "outputs": [
    {
     "data": {
      "text/html": [
       "<div>\n",
       "<style scoped>\n",
       "    .dataframe tbody tr th:only-of-type {\n",
       "        vertical-align: middle;\n",
       "    }\n",
       "\n",
       "    .dataframe tbody tr th {\n",
       "        vertical-align: top;\n",
       "    }\n",
       "\n",
       "    .dataframe thead th {\n",
       "        text-align: right;\n",
       "    }\n",
       "</style>\n",
       "<table border=\"1\" class=\"dataframe\">\n",
       "  <thead>\n",
       "    <tr style=\"text-align: right;\">\n",
       "      <th></th>\n",
       "      <th>Yorum</th>\n",
       "      <th>Not</th>\n",
       "    </tr>\n",
       "  </thead>\n",
       "  <tbody>\n",
       "    <tr>\n",
       "      <th>0</th>\n",
       "      <td>guzel varliklar yolda hizla ilerlerken ondekin...</td>\n",
       "      <td>5</td>\n",
       "    </tr>\n",
       "    <tr>\n",
       "      <th>1</th>\n",
       "      <td>almancada bayerische motorenwerkenin kisaltmasi</td>\n",
       "      <td>3</td>\n",
       "    </tr>\n",
       "    <tr>\n",
       "      <th>2</th>\n",
       "      <td>amblemi donen bir pervaneyi sembolize eden kus...</td>\n",
       "      <td>4</td>\n",
       "    </tr>\n",
       "    <tr>\n",
       "      <th>3</th>\n",
       "      <td>2 dunya savasinda alman ordusuna ve ss birlikl...</td>\n",
       "      <td>2</td>\n",
       "    </tr>\n",
       "    <tr>\n",
       "      <th>4</th>\n",
       "      <td>calisanlarindan biri 2000 yilinda cikaracaklar...</td>\n",
       "      <td>3</td>\n",
       "    </tr>\n",
       "  </tbody>\n",
       "</table>\n",
       "</div>"
      ],
      "text/plain": [
       "                                               Yorum  Not\n",
       "0  guzel varliklar yolda hizla ilerlerken ondekin...    5\n",
       "1    almancada bayerische motorenwerkenin kisaltmasi    3\n",
       "2  amblemi donen bir pervaneyi sembolize eden kus...    4\n",
       "3  2 dunya savasinda alman ordusuna ve ss birlikl...    2\n",
       "4  calisanlarindan biri 2000 yilinda cikaracaklar...    3"
      ]
     },
     "execution_count": 1,
     "metadata": {},
     "output_type": "execute_result"
    }
   ],
   "source": [
    "import pandas as pd\n",
    " \n",
    "#Importing data from excel file.\n",
    "data = pd.read_excel('cmpe251 train data.xlsx')\n",
    "data.head()"
   ]
  },
  {
   "cell_type": "code",
   "execution_count": 2,
   "metadata": {},
   "outputs": [],
   "source": [
    "#c is the array for yorum column\n",
    "c=[]\n",
    "#y is the not values\n",
    "y = data[\"Not\"].head(1000)\n",
    "\n",
    "#Getting the string values to an array\n",
    "A = data[\"Yorum\"].head(1000)\n",
    "for words in A:\n",
    "    c.append(words)\n"
   ]
  },
  {
   "cell_type": "markdown",
   "metadata": {},
   "source": [
    "# Vectorizer "
   ]
  },
  {
   "cell_type": "code",
   "execution_count": 3,
   "metadata": {
    "scrolled": true
   },
   "outputs": [],
   "source": [
    "from sklearn.feature_extraction.text import CountVectorizer\n",
    "\n",
    "vectorizer = CountVectorizer()\n",
    "vectorizer.fit(c)\n",
    "vector = vectorizer.transform(c)\n",
    "\n",
    "#Vectorized Array for the ML \n",
    "X= vector.toarray()\n",
    "\n",
    "\n"
   ]
  },
  {
   "cell_type": "code",
   "execution_count": 4,
   "metadata": {},
   "outputs": [
    {
     "data": {
      "text/plain": [
       "0    5\n",
       "1    3\n",
       "2    4\n",
       "3    2\n",
       "4    3\n",
       "5    3\n",
       "6    5\n",
       "7    4\n",
       "8    5\n",
       "9    5\n",
       "Name: Not, dtype: int64"
      ]
     },
     "execution_count": 4,
     "metadata": {},
     "output_type": "execute_result"
    }
   ],
   "source": [
    "#Preview of the y component\n",
    "y.head(10)"
   ]
  },
  {
   "cell_type": "markdown",
   "metadata": {},
   "source": [
    "# KNeighbors ML Algorithm "
   ]
  },
  {
   "cell_type": "code",
   "execution_count": 5,
   "metadata": {},
   "outputs": [
    {
     "name": "stderr",
     "output_type": "stream",
     "text": [
      "C:\\Users\\Elican\\Anaconda3\\lib\\site-packages\\sklearn\\utils\\validation.py:475: DataConversionWarning: Data with input dtype int64 was converted to float64 by StandardScaler.\n",
      "  warnings.warn(msg, DataConversionWarning)\n"
     ]
    },
    {
     "data": {
      "text/plain": [
       "0.2620689655172414"
      ]
     },
     "execution_count": 5,
     "metadata": {},
     "output_type": "execute_result"
    }
   ],
   "source": [
    "from sklearn import neighbors, preprocessing\n",
    "from sklearn.model_selection import train_test_split\n",
    "from sklearn.metrics import accuracy_score\n",
    "\n",
    "#Test with spliting train data\n",
    "X_train, X_test, y_train, y_test = train_test_split(X, y, test_size = 0.29 ,random_state=33)\n",
    "\n",
    "#Scaling the vectorized data\n",
    "scaler = preprocessing.StandardScaler().fit(X_train)\n",
    "X_train = scaler.transform(X_train)\n",
    "X_test = scaler.transform(X_test)\n",
    "\n",
    "#Ml Algorithm\n",
    "knn = neighbors.KNeighborsClassifier(n_neighbors=3)\n",
    "knn.fit(X_train, y_train)\n",
    "\n",
    "#Test and accuracy score\n",
    "y_pred = knn.predict(X_test)\n",
    "accuracy_score(y_test, y_pred)\n"
   ]
  },
  {
   "cell_type": "markdown",
   "metadata": {},
   "source": [
    "# RandomForestRegressor Algorithm"
   ]
  },
  {
   "cell_type": "code",
   "execution_count": 6,
   "metadata": {},
   "outputs": [
    {
     "name": "stderr",
     "output_type": "stream",
     "text": [
      "C:\\Users\\Elican\\Anaconda3\\lib\\site-packages\\sklearn\\ensemble\\weight_boosting.py:29: DeprecationWarning: numpy.core.umath_tests is an internal NumPy module and should not be imported. It will be removed in a future NumPy release.\n",
      "  from numpy.core.umath_tests import inner1d\n",
      "C:\\Users\\Elican\\Anaconda3\\lib\\site-packages\\sklearn\\utils\\validation.py:475: DataConversionWarning: Data with input dtype int64 was converted to float64 by StandardScaler.\n",
      "  warnings.warn(msg, DataConversionWarning)\n"
     ]
    },
    {
     "data": {
      "text/plain": [
       "array([4.6, 3.8, 3.8, 3. , 3.8, 2.6, 4.2, 3. , 3. , 4. , 3.4, 4.2, 3.4,\n",
       "       2.8, 4.4, 2.4, 2.2, 3.8, 4.8, 2.6, 3.4, 3.2, 2.2, 1.8, 3. , 2.8,\n",
       "       3. , 2.6, 2.2, 2.6, 3.2, 3. , 3. , 2.8, 3.6, 3.4, 4.2, 3.6, 3.6,\n",
       "       3. , 2. , 3.2, 2.8, 3.8, 2.2, 4.4, 4.6, 3. , 2.6, 2.2, 3. , 3.6,\n",
       "       3.6, 1.8, 3. , 1.4, 3.2, 4.6, 3. , 3.6, 2.8, 3. , 1.8, 3.6, 4.2,\n",
       "       2.6, 3.8, 4.2, 3.4, 3.4, 2.2, 3.2, 2.6, 4.4, 2.8, 4.6, 2.2, 3.4,\n",
       "       3.4, 3.2, 3.6, 4. , 2.8, 2.2, 4.4, 3.8, 3.8, 5. , 5. , 1.8, 3.4,\n",
       "       2. , 3.2, 3. , 2.6, 1.8, 3.2, 4. , 3.8, 3.4, 3.2, 3.4, 4.8, 2.2,\n",
       "       1.8, 3. , 3. , 1.8, 3.6, 4.2, 3.2, 2.6, 4. , 4. , 3.8, 4.6, 3.8,\n",
       "       3.8, 2.4, 3.6, 3. , 1.8, 2.4, 4.6, 3.6, 4.8, 3.6, 3.2, 3. , 3.6,\n",
       "       2.2, 3.4, 5. , 2.4, 3.4, 3. , 1.8, 4.2, 3.6, 3.2, 2. , 3.2, 3.4,\n",
       "       3.8, 3.2, 3. , 3. , 2.6, 3.4, 3.2, 2.4, 2.2, 3.4, 4.2, 2.8, 2.6,\n",
       "       3. , 3. , 4. , 3.2, 3.4, 4.2, 4.6, 3. , 3.4, 3. , 3. , 4.2, 2.8,\n",
       "       4.6, 3. , 3.4, 3.8, 4. , 3.4, 1.4, 2.2, 2.8, 2.8, 2.2, 3. , 2.8,\n",
       "       3. , 3.6, 2.6, 2.4, 3. , 3.6, 4. , 3.6, 2.6, 3.6, 4.8, 4.6, 1.2,\n",
       "       2.8, 3.6, 4.6, 2.6, 3.6, 4. , 3. , 3.4, 2.2, 5. , 3. , 3.8, 3.8,\n",
       "       3. , 3. , 4.6, 3.8, 2.2, 3.8, 5. , 3. , 3. , 3. , 2.4, 3. , 2.8,\n",
       "       3.2, 3.2, 3. , 3. , 1.8, 3.6, 4.2, 2. , 1.6, 3.4, 4.2, 3.8, 3.6,\n",
       "       3.8, 3.6, 3.4, 3.8, 2.8, 1.4, 3.4, 2.6, 5. , 2.6, 2.6, 3. , 1.8,\n",
       "       3.2, 5. , 3.2, 4. , 4.2, 2.2, 4.4, 4.4, 4.4, 3.4, 3.2, 3.4, 3.6,\n",
       "       3.4, 1.8, 3. , 4. , 3. , 1.6, 4.2, 3.8, 2.6, 3.2, 5. , 3.8, 3.2,\n",
       "       2.6, 4. , 4. , 3. , 2.8, 4.2, 4.2, 4. , 3.4, 3.6, 4.2, 3. , 3. ,\n",
       "       2.4, 3.8, 3.8, 2.6])"
      ]
     },
     "execution_count": 6,
     "metadata": {},
     "output_type": "execute_result"
    }
   ],
   "source": [
    "from sklearn.ensemble import RandomForestRegressor\n",
    "\n",
    "#Test with spliting train data\n",
    "X_train, X_test, y_train, y_test = train_test_split(X, y, test_size = 0.29 ,random_state=33)\n",
    "\n",
    "#Scaling the vectorized data\n",
    "scaler = preprocessing.StandardScaler().fit(X_train)\n",
    "X_train = scaler.transform(X_train)\n",
    "X_test = scaler.transform(X_test)\n",
    "\n",
    "regressor = RandomForestRegressor(n_estimators=5, random_state=0)  \n",
    "regressor.fit(X_train, y_train)  \n",
    "\n",
    "#Test and accuracy score\n",
    "y_pred = regressor.predict(X_test)\n",
    "y_pred"
   ]
  },
  {
   "cell_type": "markdown",
   "metadata": {},
   "source": [
    "# Getrting the Test Data from Audi"
   ]
  },
  {
   "cell_type": "code",
   "execution_count": 7,
   "metadata": {},
   "outputs": [
    {
     "data": {
      "text/plain": [
       "371"
      ]
     },
     "execution_count": 7,
     "metadata": {},
     "output_type": "execute_result"
    }
   ],
   "source": [
    "from bs4 import BeautifulSoup\n",
    "import pandas\n",
    "import urllib.request\n",
    "import numpy as np\n",
    "import re\n",
    "\n",
    "dataOutput2 = []\n",
    "dataOutput = \"\"\n",
    "NumberofPages = 38\n",
    "webpage = \"https://eksisozluk.com/audi--54769\"\n",
    "\n",
    "for page_number in range (1,NumberofPages):\n",
    "    webpage = \"https://eksisozluk.com/audi--54769?p=\"+str(page_number)\n",
    "    \n",
    "    websource = urllib.request.urlopen(webpage)\n",
    "    soup = BeautifulSoup(websource.read(), \"html.parser\")\n",
    "\n",
    "    yorum = soup.find_all(class_=\"content\",limit = 1000)\n",
    "\n",
    "    for i in yorum:\n",
    "        \n",
    "        #Array type data and preproccesing\n",
    "        a = i.text\n",
    "        clean_text = a.lower()\n",
    "        clean_text = re.sub(r'\\[[0-9]*\\]',' ',clean_text) \n",
    "        clean_text = re.sub(r'\\W',' ',clean_text)\n",
    "        clean_text = re.sub(r'\\d',' ',clean_text)\n",
    "        clean_text = re.sub(r'\\s+',' ',clean_text)\n",
    "        \n",
    "        dataOutput2.append(clean_text)\n",
    "        \n",
    "        \n",
    "#We discovered that the algorithm detects pahali as negative and we wanted to show that.\n",
    "dataOutput2.append(\"pahalı bir araba\")\n",
    "\n",
    "len(dataOutput2)"
   ]
  },
  {
   "cell_type": "markdown",
   "metadata": {},
   "source": [
    "# Vectorizer for Audi Test Data"
   ]
  },
  {
   "cell_type": "code",
   "execution_count": 8,
   "metadata": {},
   "outputs": [],
   "source": [
    "from sklearn.feature_extraction.text import CountVectorizer\n",
    "\n",
    "vectorizer = CountVectorizer()\n",
    "vectorizer.fit(c)\n",
    "vector = vectorizer.transform(dataOutput2) \n",
    "X_test_audi= vector.toarray()\n",
    "\n",
    "\n"
   ]
  },
  {
   "cell_type": "markdown",
   "metadata": {},
   "source": [
    "# Audi Test on the ML & Results"
   ]
  },
  {
   "cell_type": "code",
   "execution_count": 9,
   "metadata": {},
   "outputs": [
    {
     "name": "stderr",
     "output_type": "stream",
     "text": [
      "C:\\Users\\Elican\\Anaconda3\\lib\\site-packages\\sklearn\\utils\\validation.py:475: DataConversionWarning: Data with input dtype int64 was converted to float64 by StandardScaler.\n",
      "  warnings.warn(msg, DataConversionWarning)\n"
     ]
    },
    {
     "data": {
      "text/plain": [
       "array([1, 3, 3, 3, 3, 3, 3, 3, 3, 3, 3, 3, 3, 3, 3, 3, 3, 3, 3, 3, 3, 3,\n",
       "       3, 3, 3, 3, 3, 3, 3, 3, 3, 3, 3, 3, 3, 1, 3, 3, 3, 1, 1, 3, 3, 3,\n",
       "       3, 3, 3, 3, 3, 3, 3, 3, 3, 3, 3, 3, 3, 3, 3, 3, 3, 3, 3, 3, 3, 3,\n",
       "       3, 3, 1, 3, 3, 3, 3, 3, 3, 3, 3, 3, 3, 1, 3, 3, 3, 1, 3, 3, 3, 3,\n",
       "       3, 3, 1, 3, 3, 3, 3, 3, 3, 1, 3, 3, 3, 3, 3, 3, 3, 3, 3, 3, 3, 3,\n",
       "       3, 3, 3, 3, 3, 3, 3, 3, 3, 3, 3, 3, 3, 3, 3, 3, 3, 3, 3, 3, 3, 3,\n",
       "       3, 3, 3, 3, 3, 3, 3, 3, 3, 3, 3, 3, 3, 3, 3, 3, 3, 3, 3, 3, 3, 3,\n",
       "       3, 3, 3, 3, 1, 3, 3, 1, 3, 3, 3, 3, 3, 3, 3, 3, 3, 3, 3, 3, 3, 3,\n",
       "       3, 3, 3, 3, 3, 3, 3, 3, 3, 3, 3, 3, 3, 3, 3, 3, 3, 1, 3, 3, 3, 3,\n",
       "       3, 3, 3, 3, 3, 3, 3, 3, 3, 3, 3, 3, 3, 3, 3, 3, 3, 3, 3, 1, 3, 3,\n",
       "       3, 3, 3, 3, 3, 3, 3, 3, 3, 3, 1, 3, 3, 3, 3, 3, 3, 3, 3, 3, 3, 3,\n",
       "       3, 3, 3, 3, 3, 3, 3, 3, 3, 3, 3, 3, 3, 3, 3, 3, 3, 1, 3, 3, 3, 3,\n",
       "       3, 3, 3, 3, 1, 3, 1, 3, 3, 3, 3, 3, 3, 3, 3, 3, 3, 3, 3, 3, 3, 3,\n",
       "       3, 3, 3, 3, 3, 3, 3, 3, 3, 3, 3, 3, 3, 3, 1, 1, 3, 3, 3, 3, 3, 3,\n",
       "       3, 3, 3, 3, 3, 1, 3, 3, 3, 3, 3, 3, 3, 3, 3, 3, 3, 3, 3, 3, 3, 3,\n",
       "       3, 3, 3, 3, 3, 3, 4, 3, 3, 3, 3, 3, 3, 1, 3, 3, 3, 3, 3, 3, 3, 3,\n",
       "       3, 3, 3, 3, 3, 3, 3, 1, 3, 3, 3, 3, 3, 3, 3, 3, 3, 3, 3],\n",
       "      dtype=int64)"
      ]
     },
     "execution_count": 9,
     "metadata": {},
     "output_type": "execute_result"
    }
   ],
   "source": [
    "from sklearn import neighbors, preprocessing\n",
    "from sklearn.model_selection import train_test_split\n",
    "from sklearn.metrics import accuracy_score\n",
    "\n",
    "#Scaling the vectorized data\n",
    "scaler = preprocessing.StandardScaler().fit(X)\n",
    "X_train = scaler.transform(X)\n",
    "X_test = scaler.transform(X_test_audi)\n",
    "\n",
    "#Ml Algorithm\n",
    "knn = neighbors.KNeighborsClassifier(n_neighbors=5)\n",
    "knn.fit(X_train, y)\n",
    "\n",
    "#Test and accuracy score\n",
    "y_pred = knn.predict(X_test)\n",
    "y_pred"
   ]
  },
  {
   "cell_type": "markdown",
   "metadata": {},
   "source": [
    "# Getting Volkswagen Data "
   ]
  },
  {
   "cell_type": "code",
   "execution_count": null,
   "metadata": {},
   "outputs": [],
   "source": [
    "from bs4 import BeautifulSoup\n",
    "import pandas\n",
    "import urllib.request\n",
    "import numpy as np\n",
    "import re\n",
    "\n",
    "dataOutput_volswagen = []\n",
    "NumberofPages = 55\n",
    "webpage = \"https://eksisozluk.com/volkswagen--49852\"\n",
    "\n",
    "for page_number in range (1,NumberofPages):\n",
    "    webpage = \"https://eksisozluk.com/volkswagen--49852\"+str(page_number)\n",
    "    \n",
    "    websource = urllib.request.urlopen(webpage)\n",
    "    soup = BeautifulSoup(websource.read(), \"html.parser\")\n",
    "\n",
    "    yorum = soup.find_all(class_=\"content\",limit = 500)\n",
    "\n",
    "    for i in yorum:\n",
    "      \n",
    "        #Array type data and preproccesing\n",
    "        a = i.text\n",
    "        clean_text = a.lower()\n",
    "        clean_text = re.sub(r'\\[[0-9]*\\]',' ',clean_text) \n",
    "        clean_text = re.sub(r'\\W',' ',clean_text)\n",
    "        clean_text = re.sub(r'\\d',' ',clean_text)\n",
    "        clean_text = re.sub(r'\\s+',' ',clean_text)\n",
    "        \n",
    "        dataOutput_volswagen.append(clean_text)\n",
    "        \n",
    "        \n",
    "#print(dataOutput2)\n",
    "\n",
    "len(dataOutput_volswagen)"
   ]
  },
  {
   "cell_type": "markdown",
   "metadata": {},
   "source": [
    "# Vectorizer for Volkswagen Data"
   ]
  },
  {
   "cell_type": "code",
   "execution_count": null,
   "metadata": {},
   "outputs": [],
   "source": [
    "from sklearn.feature_extraction.text import CountVectorizer\n",
    "\n",
    "vectorizer = CountVectorizer()\n",
    "vectorizer.fit(c)\n",
    "vector = vectorizer.transform(dataOutput_volswagen) \n",
    "X_test_vw= vector.toarray()\n"
   ]
  },
  {
   "cell_type": "markdown",
   "metadata": {},
   "source": [
    "# Volkswagen Data on the ML & Results"
   ]
  },
  {
   "cell_type": "code",
   "execution_count": null,
   "metadata": {},
   "outputs": [],
   "source": [
    "from sklearn import neighbors, preprocessing\n",
    "from sklearn.model_selection import train_test_split\n",
    "from sklearn.metrics import accuracy_score\n",
    "\n",
    "\n",
    "\n",
    "#Scaling the vectorized data\n",
    "scaler = preprocessing.StandardScaler().fit(X)\n",
    "X_train = scaler.transform(X)\n",
    "X_test = scaler.transform(X_test_vw)\n",
    "\n",
    "#Ml Algorithm\n",
    "knn = neighbors.KNeighborsClassifier(n_neighbors=7)\n",
    "knn.fit(X_train, y)\n",
    "\n",
    "#Test and accuracy score\n",
    "y_pred = knn.predict(X_test)\n",
    "y_pred"
   ]
  },
  {
   "cell_type": "code",
   "execution_count": null,
   "metadata": {},
   "outputs": [],
   "source": []
  }
 ],
 "metadata": {
  "kernelspec": {
   "display_name": "Python 3",
   "language": "python",
   "name": "python3"
  },
  "language_info": {
   "codemirror_mode": {
    "name": "ipython",
    "version": 3
   },
   "file_extension": ".py",
   "mimetype": "text/x-python",
   "name": "python",
   "nbconvert_exporter": "python",
   "pygments_lexer": "ipython3",
   "version": "3.7.0"
  }
 },
 "nbformat": 4,
 "nbformat_minor": 2
}
